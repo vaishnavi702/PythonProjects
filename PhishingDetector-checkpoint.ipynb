{
 "cells": [
  {
   "cell_type": "markdown",
   "id": "1e31bc4c-122f-453a-bf3a-9d858f9d0159",
   "metadata": {},
   "source": [
    "# Phishing Detector"
   ]
  },
  {
   "cell_type": "markdown",
   "id": "2ab71130-06b1-4cab-ba85-39ec5ee5b6ee",
   "metadata": {},
   "source": [
    "### Install Dependencies"
   ]
  },
  {
   "cell_type": "code",
   "execution_count": null,
   "id": "366f1d6a-f471-4942-a6bc-c24610b8b2f6",
   "metadata": {},
   "outputs": [],
   "source": [
    "!pip install numpy\n",
    "!pip install pandas\n",
    "!pip install scikit-learn\n",
    "!pip install tld"
   ]
  },
  {
   "cell_type": "code",
   "execution_count": 154,
   "id": "dec2fabb-5b88-4ad3-bbe0-bd4a9fffc917",
   "metadata": {},
   "outputs": [],
   "source": [
    "import numpy as np\n",
    "import pandas as pd\n",
    "import pickle"
   ]
  },
  {
   "cell_type": "markdown",
   "id": "f90e5343-fb25-41fa-a43b-0abbf41009b1",
   "metadata": {},
   "source": [
    "### Read DataFrame"
   ]
  },
  {
   "cell_type": "code",
   "execution_count": 155,
   "id": "98f639bf-f3ae-4be3-965a-0c404fd74871",
   "metadata": {},
   "outputs": [
    {
     "data": {
      "text/html": [
       "<div>\n",
       "<style scoped>\n",
       "    .dataframe tbody tr th:only-of-type {\n",
       "        vertical-align: middle;\n",
       "    }\n",
       "\n",
       "    .dataframe tbody tr th {\n",
       "        vertical-align: top;\n",
       "    }\n",
       "\n",
       "    .dataframe thead th {\n",
       "        text-align: right;\n",
       "    }\n",
       "</style>\n",
       "<table border=\"1\" class=\"dataframe\">\n",
       "  <thead>\n",
       "    <tr style=\"text-align: right;\">\n",
       "      <th></th>\n",
       "      <th>url</th>\n",
       "      <th>type</th>\n",
       "    </tr>\n",
       "  </thead>\n",
       "  <tbody>\n",
       "    <tr>\n",
       "      <th>0</th>\n",
       "      <td>br-icloud.com.br</td>\n",
       "      <td>phishing</td>\n",
       "    </tr>\n",
       "    <tr>\n",
       "      <th>1</th>\n",
       "      <td>mp3raid.com/music/krizz_kaliko.html</td>\n",
       "      <td>benign</td>\n",
       "    </tr>\n",
       "    <tr>\n",
       "      <th>2</th>\n",
       "      <td>bopsecrets.org/rexroth/cr/1.htm</td>\n",
       "      <td>benign</td>\n",
       "    </tr>\n",
       "    <tr>\n",
       "      <th>3</th>\n",
       "      <td>http://www.garage-pirenne.be/index.php?option=...</td>\n",
       "      <td>defacement</td>\n",
       "    </tr>\n",
       "    <tr>\n",
       "      <th>4</th>\n",
       "      <td>http://adventure-nicaragua.net/index.php?optio...</td>\n",
       "      <td>defacement</td>\n",
       "    </tr>\n",
       "  </tbody>\n",
       "</table>\n",
       "</div>"
      ],
      "text/plain": [
       "                                                 url        type\n",
       "0                                   br-icloud.com.br    phishing\n",
       "1                mp3raid.com/music/krizz_kaliko.html      benign\n",
       "2                    bopsecrets.org/rexroth/cr/1.htm      benign\n",
       "3  http://www.garage-pirenne.be/index.php?option=...  defacement\n",
       "4  http://adventure-nicaragua.net/index.php?optio...  defacement"
      ]
     },
     "execution_count": 155,
     "metadata": {},
     "output_type": "execute_result"
    }
   ],
   "source": [
    "df = pd.read_csv(\"data.csv\")\n",
    "df.head()"
   ]
  },
  {
   "cell_type": "markdown",
   "id": "9c485308-79c8-4c37-b39b-90868a07d3a3",
   "metadata": {},
   "source": [
    "## Features"
   ]
  },
  {
   "cell_type": "code",
   "execution_count": 3,
   "id": "67439cc8-da54-47d6-8369-fafec9d788ae",
   "metadata": {},
   "outputs": [],
   "source": [
    "from tld import get_tld\n",
    "from urllib.parse import urlparse\n",
    "import re\n",
    "\n",
    "def abnormal_url(url):\n",
    "    hostname = str(urlparse(url).hostname)\n",
    "    match = re.search(hostname, url)\n",
    "    return 0 if match else 1\n",
    "\n",
    "def count_digit(url):\n",
    "    digits = 0\n",
    "    for i in url:\n",
    "        if i.isnumeric(): digits = digits + 1\n",
    "    return digits\n",
    "\n",
    "def count_letter(url):\n",
    "    letters = 0\n",
    "    for i in url:\n",
    "        if i.isalpha(): letters = letters + 1\n",
    "    return letters\n",
    "\n",
    "def is_https(url):\n",
    "    return int(url.startswith(\"https://\"))\n",
    "\n",
    "def is_http(url):\n",
    "    return int(url.startswith(\"http://\"))\n",
    "\n",
    "def count_dot(url):\n",
    "    return url.count(\".\")\n",
    "\n",
    "def count_www(url):\n",
    "    return url.count(\"www\")\n",
    "\n",
    "def count_at(url):\n",
    "    return url.count(\"@\")\n",
    "\n",
    "def count_dir(url):\n",
    "    return urlparse(url).path.count(\"/\")\n",
    "\n",
    "def count_embed(url):\n",
    "    return urlparse(url).path.count(\"//\")\n",
    "\n",
    "def count_percent(url):\n",
    "    return url.count(\"%\")\n",
    "\n",
    "def count_ques(url):\n",
    "    return url.count(\"?\")\n",
    "\n",
    "def count_dash(url):\n",
    "    return url.count(\"-\")\n",
    "\n",
    "def count_equal(url):\n",
    "    return url.count(\"=\")\n",
    "\n",
    "def url_length(url):\n",
    "    return len(str(url))\n",
    "\n",
    "def hostname_length(url):\n",
    "    return len(urlparse(url).netloc)\n",
    "\n",
    "def suspicious_words(url):\n",
    "    match = re.search(\"PayPal|login|signin|bank|account|update|free|lucky|service|bonus|ebayisapi|webscr\", url)\n",
    "    return 1 if match else 0\n",
    "\n",
    "# First Directory Length\n",
    "def fd_length(url):\n",
    "    urlpath = urlparse(url).path\n",
    "    paths = urlpath.split(\"/\")\n",
    "    return len(paths[1]) if len(paths) > 1 else 0\n",
    "\n",
    "def tld_length(url):\n",
    "    domain = get_tld(url, fail_silently=True)\n",
    "    return len(str(domain)) if domain else 0"
   ]
  },
  {
   "cell_type": "markdown",
   "id": "a1c915b4-4b98-49f3-8046-5e16f5ca1963",
   "metadata": {},
   "source": [
    "Set Features."
   ]
  },
  {
   "cell_type": "code",
   "execution_count": 157,
   "id": "86d49399-e3b6-44fe-9e61-092e13524781",
   "metadata": {},
   "outputs": [
    {
     "data": {
      "text/html": [
       "<div>\n",
       "<style scoped>\n",
       "    .dataframe tbody tr th:only-of-type {\n",
       "        vertical-align: middle;\n",
       "    }\n",
       "\n",
       "    .dataframe tbody tr th {\n",
       "        vertical-align: top;\n",
       "    }\n",
       "\n",
       "    .dataframe thead th {\n",
       "        text-align: right;\n",
       "    }\n",
       "</style>\n",
       "<table border=\"1\" class=\"dataframe\">\n",
       "  <thead>\n",
       "    <tr style=\"text-align: right;\">\n",
       "      <th></th>\n",
       "      <th>url</th>\n",
       "      <th>type</th>\n",
       "      <th>abnormal_url</th>\n",
       "      <th>count_digit</th>\n",
       "      <th>count_letter</th>\n",
       "      <th>is_https</th>\n",
       "      <th>is_http</th>\n",
       "      <th>count_dot</th>\n",
       "      <th>count_www</th>\n",
       "      <th>count_at</th>\n",
       "      <th>...</th>\n",
       "      <th>count_embed</th>\n",
       "      <th>count_percent</th>\n",
       "      <th>count_ques</th>\n",
       "      <th>count_dash</th>\n",
       "      <th>count_equal</th>\n",
       "      <th>url_length</th>\n",
       "      <th>hostname_length</th>\n",
       "      <th>suspicious_words</th>\n",
       "      <th>fd_length</th>\n",
       "      <th>tld_length</th>\n",
       "    </tr>\n",
       "  </thead>\n",
       "  <tbody>\n",
       "    <tr>\n",
       "      <th>0</th>\n",
       "      <td>br-icloud.com.br</td>\n",
       "      <td>phishing</td>\n",
       "      <td>1</td>\n",
       "      <td>0</td>\n",
       "      <td>13</td>\n",
       "      <td>0</td>\n",
       "      <td>0</td>\n",
       "      <td>2</td>\n",
       "      <td>0</td>\n",
       "      <td>0</td>\n",
       "      <td>...</td>\n",
       "      <td>0</td>\n",
       "      <td>0</td>\n",
       "      <td>0</td>\n",
       "      <td>1</td>\n",
       "      <td>0</td>\n",
       "      <td>16</td>\n",
       "      <td>0</td>\n",
       "      <td>0</td>\n",
       "      <td>0</td>\n",
       "      <td>0</td>\n",
       "    </tr>\n",
       "    <tr>\n",
       "      <th>1</th>\n",
       "      <td>mp3raid.com/music/krizz_kaliko.html</td>\n",
       "      <td>benign</td>\n",
       "      <td>1</td>\n",
       "      <td>1</td>\n",
       "      <td>29</td>\n",
       "      <td>0</td>\n",
       "      <td>0</td>\n",
       "      <td>2</td>\n",
       "      <td>0</td>\n",
       "      <td>0</td>\n",
       "      <td>...</td>\n",
       "      <td>0</td>\n",
       "      <td>0</td>\n",
       "      <td>0</td>\n",
       "      <td>0</td>\n",
       "      <td>0</td>\n",
       "      <td>35</td>\n",
       "      <td>0</td>\n",
       "      <td>0</td>\n",
       "      <td>5</td>\n",
       "      <td>0</td>\n",
       "    </tr>\n",
       "    <tr>\n",
       "      <th>2</th>\n",
       "      <td>bopsecrets.org/rexroth/cr/1.htm</td>\n",
       "      <td>benign</td>\n",
       "      <td>1</td>\n",
       "      <td>1</td>\n",
       "      <td>25</td>\n",
       "      <td>0</td>\n",
       "      <td>0</td>\n",
       "      <td>2</td>\n",
       "      <td>0</td>\n",
       "      <td>0</td>\n",
       "      <td>...</td>\n",
       "      <td>0</td>\n",
       "      <td>0</td>\n",
       "      <td>0</td>\n",
       "      <td>0</td>\n",
       "      <td>0</td>\n",
       "      <td>31</td>\n",
       "      <td>0</td>\n",
       "      <td>0</td>\n",
       "      <td>7</td>\n",
       "      <td>0</td>\n",
       "    </tr>\n",
       "    <tr>\n",
       "      <th>3</th>\n",
       "      <td>http://www.garage-pirenne.be/index.php?option=...</td>\n",
       "      <td>defacement</td>\n",
       "      <td>0</td>\n",
       "      <td>7</td>\n",
       "      <td>63</td>\n",
       "      <td>0</td>\n",
       "      <td>1</td>\n",
       "      <td>3</td>\n",
       "      <td>1</td>\n",
       "      <td>0</td>\n",
       "      <td>...</td>\n",
       "      <td>0</td>\n",
       "      <td>0</td>\n",
       "      <td>1</td>\n",
       "      <td>1</td>\n",
       "      <td>4</td>\n",
       "      <td>88</td>\n",
       "      <td>21</td>\n",
       "      <td>0</td>\n",
       "      <td>9</td>\n",
       "      <td>2</td>\n",
       "    </tr>\n",
       "    <tr>\n",
       "      <th>4</th>\n",
       "      <td>http://adventure-nicaragua.net/index.php?optio...</td>\n",
       "      <td>defacement</td>\n",
       "      <td>0</td>\n",
       "      <td>22</td>\n",
       "      <td>199</td>\n",
       "      <td>0</td>\n",
       "      <td>1</td>\n",
       "      <td>2</td>\n",
       "      <td>0</td>\n",
       "      <td>0</td>\n",
       "      <td>...</td>\n",
       "      <td>0</td>\n",
       "      <td>0</td>\n",
       "      <td>1</td>\n",
       "      <td>1</td>\n",
       "      <td>3</td>\n",
       "      <td>235</td>\n",
       "      <td>23</td>\n",
       "      <td>0</td>\n",
       "      <td>9</td>\n",
       "      <td>3</td>\n",
       "    </tr>\n",
       "  </tbody>\n",
       "</table>\n",
       "<p>5 rows × 21 columns</p>\n",
       "</div>"
      ],
      "text/plain": [
       "                                                 url        type  \\\n",
       "0                                   br-icloud.com.br    phishing   \n",
       "1                mp3raid.com/music/krizz_kaliko.html      benign   \n",
       "2                    bopsecrets.org/rexroth/cr/1.htm      benign   \n",
       "3  http://www.garage-pirenne.be/index.php?option=...  defacement   \n",
       "4  http://adventure-nicaragua.net/index.php?optio...  defacement   \n",
       "\n",
       "   abnormal_url  count_digit  count_letter  is_https  is_http  count_dot  \\\n",
       "0             1            0            13         0        0          2   \n",
       "1             1            1            29         0        0          2   \n",
       "2             1            1            25         0        0          2   \n",
       "3             0            7            63         0        1          3   \n",
       "4             0           22           199         0        1          2   \n",
       "\n",
       "   count_www  count_at  ...  count_embed  count_percent  count_ques  \\\n",
       "0          0         0  ...            0              0           0   \n",
       "1          0         0  ...            0              0           0   \n",
       "2          0         0  ...            0              0           0   \n",
       "3          1         0  ...            0              0           1   \n",
       "4          0         0  ...            0              0           1   \n",
       "\n",
       "   count_dash  count_equal  url_length  hostname_length  suspicious_words  \\\n",
       "0           1            0          16                0                 0   \n",
       "1           0            0          35                0                 0   \n",
       "2           0            0          31                0                 0   \n",
       "3           1            4          88               21                 0   \n",
       "4           1            3         235               23                 0   \n",
       "\n",
       "   fd_length  tld_length  \n",
       "0          0           0  \n",
       "1          5           0  \n",
       "2          7           0  \n",
       "3          9           2  \n",
       "4          9           3  \n",
       "\n",
       "[5 rows x 21 columns]"
      ]
     },
     "execution_count": 157,
     "metadata": {},
     "output_type": "execute_result"
    }
   ],
   "source": [
    "df[\"abnormal_url\"] = df[\"url\"].apply(lambda x: abnormal_url(x))\n",
    "df[\"count_digit\"] = df[\"url\"].apply(lambda x: count_digit(x))\n",
    "df[\"count_letter\"] = df[\"url\"].apply(lambda x: count_letter(x))\n",
    "df[\"is_https\"] = df[\"url\"].apply(lambda x: is_https(x))\n",
    "df[\"is_http\"] = df[\"url\"].apply(lambda x: is_http(x))\n",
    "df[\"count_dot\"] = df[\"url\"].apply(lambda x: count_dot(x))\n",
    "df[\"count_www\"] = df[\"url\"].apply(lambda x: count_www(x))\n",
    "df[\"count_at\"] = df[\"url\"].apply(lambda x: count_at(x))\n",
    "df[\"count_dir\"] = df[\"url\"].apply(lambda x: count_dir(x))\n",
    "df[\"count_embed\"] = df[\"url\"].apply(lambda x: count_embed(x))\n",
    "df[\"count_percent\"] = df[\"url\"].apply(lambda x: count_percent(x))\n",
    "df[\"count_ques\"] = df[\"url\"].apply(lambda x: count_ques(x))\n",
    "df[\"count_dash\"] = df[\"url\"].apply(lambda x: count_dash(x))\n",
    "df[\"count_equal\"] = df[\"url\"].apply(lambda x: count_equal(x))\n",
    "df[\"url_length\"] = df[\"url\"].apply(lambda x: url_length(x))\n",
    "df[\"hostname_length\"] = df[\"url\"].apply(lambda x: hostname_length(x))\n",
    "df[\"suspicious_words\"] = df[\"url\"].apply(lambda x: suspicious_words(x))\n",
    "df[\"fd_length\"] = df[\"url\"].apply(lambda x: fd_length(x))\n",
    "df[\"tld_length\"] = df[\"url\"].apply(lambda x: tld_length(x))\n",
    "\n",
    "df.head()"
   ]
  },
  {
   "cell_type": "markdown",
   "id": "c3ca7805-6871-412c-bb76-565cad170dc3",
   "metadata": {},
   "source": [
    "### Set Target Label"
   ]
  },
  {
   "cell_type": "code",
   "execution_count": 158,
   "id": "a42aeb1f-6277-4db4-9fea-a6affd8a4eb0",
   "metadata": {},
   "outputs": [
    {
     "data": {
      "text/plain": [
       "type_label\n",
       "0    428103\n",
       "1     96457\n",
       "3     94111\n",
       "2     32520\n",
       "Name: count, dtype: int64"
      ]
     },
     "execution_count": 158,
     "metadata": {},
     "output_type": "execute_result"
    }
   ],
   "source": [
    "from sklearn.preprocessing import LabelEncoder\n",
    "\n",
    "le = LabelEncoder()\n",
    "df[\"type_label\"] = le.fit_transform(df[\"type\"])\n",
    "df[\"type_label\"].value_counts()"
   ]
  },
  {
   "cell_type": "markdown",
   "id": "bd5763be-d6aa-4e81-bb95-8365d38ee1d5",
   "metadata": {},
   "source": [
    "## Train the Model"
   ]
  },
  {
   "cell_type": "markdown",
   "id": "d6e7d726-2cdb-4abe-b21f-ec682bc42fa7",
   "metadata": {},
   "source": [
    "Select 80% of data to train the model, 20% to test the accuracy."
   ]
  },
  {
   "cell_type": "code",
   "execution_count": 159,
   "id": "b337075b-9d9a-4ccd-91e2-8df2cb54be12",
   "metadata": {},
   "outputs": [],
   "source": [
    "from sklearn.model_selection import train_test_split\n",
    "\n",
    "X = df[[\"abnormal_url\", \"count_digit\", \"count_letter\", \"is_https\", \"is_http\", \"count_dot\", \"count_www\",\n",
    "        \"count_at\", \"count_dir\", \"count_embed\", \"count_percent\", \"count_ques\", \"count_dash\", \"count_equal\",\n",
    "        \"url_length\", \"hostname_length\", \"suspicious_words\", \"fd_length\", \"tld_length\"]].values\n",
    "y = df[\"type_label\"].values\n",
    "\n",
    "X_train, X_test, y_train, y_test = train_test_split(X, y, stratify=y, test_size=0.2, shuffle=True, random_state=5)"
   ]
  },
  {
   "cell_type": "markdown",
   "id": "524972b2-07cf-443a-bc38-942fd7b0de66",
   "metadata": {},
   "source": [
    "Random Forest Cassification."
   ]
  },
  {
   "cell_type": "code",
   "execution_count": 160,
   "id": "0e426d7c-8e61-449f-bdc5-5ff09b838800",
   "metadata": {},
   "outputs": [],
   "source": [
    "from sklearn.ensemble import RandomForestClassifier\n",
    "\n",
    "clf = RandomForestClassifier(n_estimators=100, max_features=\"sqrt\")\n",
    "clf.fit(X_train, y_train)\n",
    "preds = clf.predict(X_test)"
   ]
  },
  {
   "cell_type": "markdown",
   "id": "db674f19-bd13-400c-8fcf-2fda0fdd1a00",
   "metadata": {},
   "source": [
    "Metrics."
   ]
  },
  {
   "cell_type": "code",
   "execution_count": 161,
   "id": "dfd53d30-e522-4fb9-ae1e-2cbe3ae1cc86",
   "metadata": {},
   "outputs": [
    {
     "name": "stdout",
     "output_type": "stream",
     "text": [
      "              precision    recall  f1-score   support\n",
      "\n",
      "      benign       0.97      0.98      0.98     85621\n",
      "  defacement       0.98      0.99      0.99     19292\n",
      "    phishing       0.99      0.94      0.96      6504\n",
      "     malware       0.91      0.86      0.88     18822\n",
      "\n",
      "    accuracy                           0.97    130239\n",
      "   macro avg       0.96      0.95      0.95    130239\n",
      "weighted avg       0.97      0.97      0.97    130239\n",
      "\n",
      "accuracy:   0.966\n"
     ]
    }
   ],
   "source": [
    "from sklearn.metrics import classification_report, accuracy_score\n",
    "\n",
    "print(classification_report(y_test, preds, target_names=[\"benign\", \"defacement\", \"phishing\", \"malware\"]))\n",
    "print(\"accuracy:   %0.3f\" % accuracy_score(y_test, preds))"
   ]
  },
  {
   "cell_type": "markdown",
   "id": "68d20858-7bc5-419c-8ca5-82dc60e0fa6f",
   "metadata": {},
   "source": [
    "Write model to pickle file."
   ]
  },
  {
   "cell_type": "code",
   "execution_count": 162,
   "id": "d8614442-9587-4abd-9ac8-4d01141ea92f",
   "metadata": {},
   "outputs": [],
   "source": [
    "pickle.dump(clf, open(\"model\", \"wb\"))"
   ]
  },
  {
   "cell_type": "markdown",
   "id": "57703e26-6bdb-49d2-b8d6-e05b66475d7c",
   "metadata": {},
   "source": [
    "### Predict URL Type"
   ]
  },
  {
   "cell_type": "markdown",
   "id": "efd534dc-d76c-45ec-9c08-f6d22aa8c56c",
   "metadata": {},
   "source": [
    "Read the model from the pickle file and predict."
   ]
  },
  {
   "cell_type": "code",
   "execution_count": 163,
   "id": "cd1e18e2-a4d4-46e7-bda0-953c3a5755c3",
   "metadata": {},
   "outputs": [],
   "source": [
    "def get_features(url):\n",
    "    values = []\n",
    "    for f in [abnormal_url, count_digit, count_letter, is_https, is_http, count_dot, count_www,\n",
    "              count_at, count_dir, count_embed, count_percent, count_ques, count_dash, count_equal,\n",
    "              url_length, hostname_length, suspicious_words, fd_length, tld_length]:\n",
    "        values.append(f(url))\n",
    "    return values\n",
    "\n",
    "def get_prediction_from_url(url):\n",
    "    model = pickle.load(open(\"model\", \"rb\"))\n",
    "    \n",
    "    features_test = get_features(url)\n",
    "    features_test = np.array(features_test).reshape((1, -1))\n",
    "    pred = model.predict(features_test)\n",
    "    return [\"benign\", \"defacement\", \"phishing\", \"malware\"][pred[0]]"
   ]
  },
  {
   "cell_type": "code",
   "execution_count": 164,
   "id": "eca921f8-aa5b-4532-9873-934a1b2f6afc",
   "metadata": {},
   "outputs": [
    {
     "data": {
      "text/plain": [
       "'benign'"
      ]
     },
     "execution_count": 164,
     "metadata": {},
     "output_type": "execute_result"
    }
   ],
   "source": [
    "get_prediction_from_url(\"http://pikabu.ru/tag/%D0%BC%D0%B8%D0%BD%D0%B8%D0%BC%D0%B0%D0%BB%D0%B8%D0%B7%D0%BC/hot\")"
   ]
  }
 ],
 "metadata": {
  "kernelspec": {
   "display_name": "Python 3 (ipykernel)",
   "language": "python",
   "name": "python3"
  },
  "language_info": {
   "codemirror_mode": {
    "name": "ipython",
    "version": 3
   },
   "file_extension": ".py",
   "mimetype": "text/x-python",
   "name": "python",
   "nbconvert_exporter": "python",
   "pygments_lexer": "ipython3",
   "version": "3.10.12"
  }
 },
 "nbformat": 4,
 "nbformat_minor": 5
}
